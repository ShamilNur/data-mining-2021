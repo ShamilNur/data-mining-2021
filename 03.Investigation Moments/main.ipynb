{
 "cells": [
  {
   "cell_type": "code",
   "execution_count": 251,
   "metadata": {},
   "outputs": [],
   "source": [
    "import numpy as np\n",
    "from collections import defaultdict"
   ]
  },
  {
   "cell_type": "markdown",
   "metadata": {},
   "source": [
    "**1.** Make a solution to generate a stream of random numbers `(amount = 1 000 000)` with values in interval `[0..1000]` with delay time = 0.2 of second (to avoid overhead)."
   ]
  },
  {
   "cell_type": "code",
   "execution_count": 252,
   "metadata": {},
   "outputs": [],
   "source": [
    "np.random.seed(42)"
   ]
  },
  {
   "cell_type": "code",
   "execution_count": 253,
   "metadata": {},
   "outputs": [],
   "source": [
    "MAX_AMOUNT = 1_000_000"
   ]
  },
  {
   "cell_type": "code",
   "execution_count": 254,
   "metadata": {},
   "outputs": [],
   "source": [
    "stream = np.array([np.random.randint(0, 1000 + 1) for _ in range(MAX_AMOUNT)])"
   ]
  },
  {
   "cell_type": "markdown",
   "metadata": {},
   "source": [
    "**2.** Calculate `0-th moment` -- a count of the number of distinct elements in the stream."
   ]
  },
  {
   "cell_type": "code",
   "execution_count": 255,
   "metadata": {},
   "outputs": [],
   "source": [
    "freqs = defaultdict(int)\n",
    "for x in stream:\n",
    "    freqs[x] += 1"
   ]
  },
  {
   "cell_type": "code",
   "execution_count": 256,
   "metadata": {},
   "outputs": [
    {
     "name": "stdout",
     "output_type": "stream",
     "text": [
      "0-th moment: 1001\n"
     ]
    }
   ],
   "source": [
    "m_0 = len(freqs.keys())\n",
    "print(f'0-th moment: {m_0}')"
   ]
  },
  {
   "cell_type": "markdown",
   "metadata": {},
   "source": [
    "**3.** Calculate `1-th moment` -- a count of the number of all elements in the stream."
   ]
  },
  {
   "cell_type": "code",
   "execution_count": 257,
   "metadata": {},
   "outputs": [
    {
     "name": "stdout",
     "output_type": "stream",
     "text": [
      "1-th moment: 1000000\n"
     ]
    }
   ],
   "source": [
    "m_1 = sum(freqs.values())\n",
    "print(f'1-th moment: {m_1}')"
   ]
  },
  {
   "cell_type": "markdown",
   "metadata": {},
   "source": [
    "**4.** Calculate `2-nd moment` based on the `\"Alon-Matias-Szegedy\" Algorithm`\n",
    "\n",
    "    a) with 100 variables\n",
    "    b) with 500 variables\n"
   ]
  },
  {
   "cell_type": "code",
   "execution_count": 258,
   "metadata": {},
   "outputs": [
    {
     "name": "stdout",
     "output_type": "stream",
     "text": [
      "True 2-nd moment: 999945184\n"
     ]
    }
   ],
   "source": [
    "m_2 = sum([x * x for x in freqs.values()])\n",
    "print(f'True 2-nd moment: {m_2}')"
   ]
  },
  {
   "cell_type": "markdown",
   "metadata": {},
   "source": [
    "a) with 100 variables"
   ]
  },
  {
   "cell_type": "code",
   "execution_count": 259,
   "metadata": {},
   "outputs": [],
   "source": [
    "variables_1 = defaultdict(int)"
   ]
  },
  {
   "cell_type": "code",
   "execution_count": 260,
   "metadata": {},
   "outputs": [],
   "source": [
    "# 100 random positions in a stream\n",
    "while len(variables_1) != 100:\n",
    "    variables_1[np.random.randint(0, MAX_AMOUNT)] = 0"
   ]
  },
  {
   "cell_type": "code",
   "execution_count": 261,
   "metadata": {},
   "outputs": [],
   "source": [
    "for i in variables_1.keys():\n",
    "    for j in range(i, len(stream)):\n",
    "        if stream[i] == stream[j]:\n",
    "            variables_1[i] += 1"
   ]
  },
  {
   "cell_type": "markdown",
   "metadata": {},
   "source": [
    "Let's estimate 2nd moment by ${n * (2 * X_{.value} - 1)}$ and take the average"
   ]
  },
  {
   "cell_type": "code",
   "execution_count": 262,
   "metadata": {},
   "outputs": [
    {
     "name": "stdout",
     "output_type": "stream",
     "text": [
      "Estimate 2nd moment by 100 variables: 971980000.0\n"
     ]
    }
   ],
   "source": [
    "values = np.array(list(variables_1.values()))\n",
    "estimate_m_2 = np.mean(((2 * values) - 1)) * MAX_AMOUNT\n",
    "print(f'Estimate 2nd moment by 100 variables: {estimate_m_2}')"
   ]
  },
  {
   "cell_type": "code",
   "execution_count": 266,
   "metadata": {},
   "outputs": [
    {
     "data": {
      "text/plain": [
       "-2.796671702356035"
      ]
     },
     "execution_count": 266,
     "metadata": {},
     "output_type": "execute_result"
    }
   ],
   "source": [
    "percentage_difference = (estimate_m_2 / m_2 - 1) * 100\n",
    "percentage_difference"
   ]
  },
  {
   "cell_type": "markdown",
   "metadata": {},
   "source": [
    "The `estimate 2nd moment` calculated with 100 variables is less than the `true 2 nd moment` by $\\approx 2.8$ %"
   ]
  },
  {
   "cell_type": "markdown",
   "metadata": {},
   "source": [
    "b) with 500 variables"
   ]
  },
  {
   "cell_type": "code",
   "execution_count": 267,
   "metadata": {},
   "outputs": [],
   "source": [
    "variables_2 = defaultdict(int)"
   ]
  },
  {
   "cell_type": "code",
   "execution_count": 268,
   "metadata": {},
   "outputs": [],
   "source": [
    "# 500 random positions in a stream\n",
    "while len(variables_2) != 500:\n",
    "    variables_2[np.random.randint(0, MAX_AMOUNT)] = 0"
   ]
  },
  {
   "cell_type": "code",
   "execution_count": 269,
   "metadata": {},
   "outputs": [],
   "source": [
    "for i in variables_2.keys():\n",
    "    for j in range(i, len(stream)):\n",
    "        if stream[i] == stream[j]:\n",
    "            variables_2[i] += 1"
   ]
  },
  {
   "cell_type": "markdown",
   "metadata": {},
   "source": [
    "Let's estimate 2nd moment by ${n * (2 * X_{.value} - 1)}$ and take the average"
   ]
  },
  {
   "cell_type": "code",
   "execution_count": 270,
   "metadata": {},
   "outputs": [
    {
     "name": "stdout",
     "output_type": "stream",
     "text": [
      "Estimate 2nd moment by 500 variables: 1013172000.0\n"
     ]
    }
   ],
   "source": [
    "values = np.array(list(variables_2.values()))\n",
    "estimate_m_2 = np.mean(((2 * values) - 1)) * MAX_AMOUNT\n",
    "print(f'Estimate 2nd moment by 500 variables: {estimate_m_2}')"
   ]
  },
  {
   "cell_type": "code",
   "execution_count": 271,
   "metadata": {},
   "outputs": [
    {
     "data": {
      "text/plain": [
       "1.322754108089197"
      ]
     },
     "execution_count": 271,
     "metadata": {},
     "output_type": "execute_result"
    }
   ],
   "source": [
    "percentage_difference = (estimate_m_2 / m_2 - 1) * 100\n",
    "percentage_difference"
   ]
  },
  {
   "cell_type": "markdown",
   "metadata": {},
   "source": [
    "The `estimate 2nd moment` calculated with 500 variables is more than the `true 2 nd moment` by $\\approx 1.3$ %"
   ]
  }
 ],
 "metadata": {
  "kernelspec": {
   "display_name": "Python 3",
   "language": "python",
   "name": "python3"
  },
  "language_info": {
   "codemirror_mode": {
    "name": "ipython",
    "version": 3
   },
   "file_extension": ".py",
   "mimetype": "text/x-python",
   "name": "python",
   "nbconvert_exporter": "python",
   "pygments_lexer": "ipython3",
   "version": "3.8.3"
  }
 },
 "nbformat": 4,
 "nbformat_minor": 4
}
